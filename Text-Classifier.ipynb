{
 "cells": [
  {
   "cell_type": "markdown",
   "id": "ffbac2d5-cc84-4057-b461-277196024a73",
   "metadata": {},
   "source": [
    "# Gmail vs Calendar Query Classifier using BERT\n",
    "# -----------------------------------------------------------\n",
    "# This notebook builds a text classification model using BERT to differentiate between Gmail-related and Calendar-related queries.\n",
    "# It includes model training, evaluation, date extraction, and a Streamlit interface."
   ]
  },
  {
   "cell_type": "code",
   "execution_count": 7,
   "id": "88d81478-28eb-4fb1-8ffa-a2627678f6db",
   "metadata": {},
   "outputs": [
    {
     "name": "stdout",
     "output_type": "stream",
     "text": [
      "Collecting en-core-web-sm==3.8.0\n",
      "  Downloading https://github.com/explosion/spacy-models/releases/download/en_core_web_sm-3.8.0/en_core_web_sm-3.8.0-py3-none-any.whl (12.8 MB)\n",
      "     ---------------------------------------- 0.0/12.8 MB ? eta -:--:--\n",
      "     ------------------ --------------------- 6.0/12.8 MB 30.7 MB/s eta 0:00:01\n",
      "     ---------------------------------- ---- 11.3/12.8 MB 28.2 MB/s eta 0:00:01\n",
      "     --------------------------------------- 12.8/12.8 MB 23.6 MB/s eta 0:00:00\n",
      "\u001b[38;5;2m[+] Download and installation successful\u001b[0m\n",
      "You can now load the package via spacy.load('en_core_web_sm')\n"
     ]
    }
   ],
   "source": [
    "# STEP 1: Install dependencies\n",
    "!pip install transformers datasets scikit-learn torch --quiet\n",
    "!python -m spacy download en_core_web_sm\n"
   ]
  },
  {
   "cell_type": "code",
   "execution_count": 8,
   "id": "4c08093d-ca99-493a-9deb-fb242533527d",
   "metadata": {},
   "outputs": [],
   "source": [
    "# STEP 2: Import necessary libraries\n",
    "import os\n",
    "os.environ[\"USE_TF\"] = \"0\"  # Disable TensorFlow in Transformers to avoid tf_keras issue\n",
    "import pandas as pd\n",
    "import torch\n",
    "import spacy\n",
    "import re\n",
    "import calendar\n",
    "import matplotlib.pyplot as plt\n",
    "import seaborn as sns\n",
    "from sklearn.model_selection import StratifiedKFold\n",
    "from sklearn.metrics import accuracy_score, f1_score, classification_report, confusion_matrix\n",
    "from transformers import AutoTokenizer, AutoModelForSequenceClassification\n"
   ]
  },
  {
   "cell_type": "code",
   "execution_count": 18,
   "id": "f9317c88-9f64-4417-ad31-ac0204333f36",
   "metadata": {},
   "outputs": [],
   "source": [
    "def build_dataset():\n",
    "    raw_data = [\n",
    "        # -------- Gmail Queries (30) --------\n",
    "        (\"Find emails with PDF attachments\", \"gmail\"),\n",
    "        (\"Show me unread messages in my inbox\", \"gmail\"),\n",
    "        (\"Search for emails from Sarah about the project proposal\", \"gmail\"),\n",
    "        (\"Find messages with the label 'Urgent'\", \"gmail\"),\n",
    "        (\"What are the latest emails from HR?\", \"gmail\"),\n",
    "        (\"Get emails that mention 'meeting notes'\", \"gmail\"),\n",
    "        (\"Retrieve my conversation with Alex about the trip\", \"gmail\"),\n",
    "        (\"Check if I got any emails with invoices\", \"gmail\"),\n",
    "        (\"What did Sarah say in the email about budget?\", \"gmail\"),\n",
    "        (\"Emails flagged as important\", \"gmail\"),\n",
    "        (\"Do I have any mail from John regarding the party?\", \"gmail\"),\n",
    "        (\"Show all messages from last week\", \"gmail\"),\n",
    "        (\"Look for emails with attachments from Ravi\", \"gmail\"),\n",
    "        (\"Get all flagged emails\", \"gmail\"),\n",
    "        (\"Do I have any emails with the subject 'deadline'?\", \"gmail\"),\n",
    "        (\"Show me starred conversations\", \"gmail\"),\n",
    "        (\"Find my conversation with support team\", \"gmail\"),\n",
    "        (\"Locate emails I sent yesterday\", \"gmail\"),\n",
    "        (\"Any emails marked confidential?\", \"gmail\"),\n",
    "        (\"Which emails did I archive last?\", \"gmail\"),\n",
    "        (\"Filter emails that contain the word 'invoice'\", \"gmail\"),\n",
    "        (\"Open the email thread about internship\", \"gmail\"),\n",
    "        (\"Get messages from admin regarding schedule\", \"gmail\"),\n",
    "        (\"Look up the latest messages with PDF attachments\", \"gmail\"),\n",
    "        (\"Get unread emails from last weekend\", \"gmail\"),\n",
    "        (\"Emails that mention calendar invites\", \"gmail\"),\n",
    "        (\"Show emails from finance department\", \"gmail\"),\n",
    "        (\"Was there any email from my professor?\", \"gmail\"),\n",
    "        (\"Find emails that discuss meeting timings\", \"gmail\"),\n",
    "        (\"Show messages I received about registration\", \"gmail\"),\n",
    "\n",
    "        # -------- Calendar Queries (30) --------\n",
    "        (\"When is my next meeting with the design team?\", \"calendar\"),\n",
    "        (\"Find appointments with Dr. Johnson\", \"calendar\"),\n",
    "        (\"Show me all-day events in May\", \"calendar\"),\n",
    "        (\"When is the team lunch scheduled for?\", \"calendar\"),\n",
    "        (\"Add a meeting with Rahul tomorrow at 3 PM\", \"calendar\"),\n",
    "        (\"Check my schedule for next week\", \"calendar\"),\n",
    "        (\"Do I have any events on the weekend?\", \"calendar\"),\n",
    "        (\"List all recurring events\", \"calendar\"),\n",
    "        (\"Find my meetings for June 2025\", \"calendar\"),\n",
    "        (\"What is on my calendar today?\", \"calendar\"),\n",
    "        (\"Am I free on Friday after 5 PM?\", \"calendar\"),\n",
    "        (\"Schedule a doctor appointment on Tuesday\", \"calendar\"),\n",
    "        (\"Add internship interview to my calendar\", \"calendar\"),\n",
    "        (\"Remind me of monthly review call\", \"calendar\"),\n",
    "        (\"Calendar for October travel plans\", \"calendar\"),\n",
    "        (\"Plan all events for next quarter\", \"calendar\"),\n",
    "        (\"Do I have a client call this afternoon?\", \"calendar\"),\n",
    "        (\"Show all my meetings for the upcoming week\", \"calendar\"),\n",
    "        (\"What’s planned in my calendar tomorrow?\", \"calendar\"),\n",
    "        (\"Are there any events overlapping on Wednesday?\", \"calendar\"),\n",
    "        (\"Get me the agenda for next Friday’s calendar\", \"calendar\"),\n",
    "        (\"Do I have any one-on-ones this month?\", \"calendar\"),\n",
    "        (\"Show my calendar entries tagged 'important'\", \"calendar\"),\n",
    "        (\"Block time for deep work next Thursday\", \"calendar\"),\n",
    "        (\"Reschedule my product demo to Tuesday\", \"calendar\"),\n",
    "        (\"List meetings scheduled with the marketing team\", \"calendar\"),\n",
    "        (\"Check if I'm double-booked tomorrow\", \"calendar\"),\n",
    "        (\"Remind me about the meeting with Sarah\", \"calendar\"),\n",
    "        (\"Search my calendar for budget discussions\", \"calendar\"),\n",
    "        (\"Was there an event scheduled after the last email?\", \"calendar\"),\n",
    "    ]\n",
    "    df = pd.DataFrame(raw_data, columns=[\"query\", \"label\"])\n",
    "    df['label'] = df['label'].map({'gmail': 0, 'calendar': 1})\n",
    "    return df\n",
    "\n",
    "df = build_dataset()"
   ]
  },
  {
   "cell_type": "code",
   "execution_count": 19,
   "id": "52b3796f-0b1b-492a-b539-f9a7e5cbd6f2",
   "metadata": {},
   "outputs": [],
   "source": [
    "# STEP 3: Define Dataset Wrapper Class\n",
    "import torch\n",
    "class QueryDataset(torch.utils.data.Dataset):\n",
    "    def __init__(self, encodings, labels):\n",
    "        self.encodings = encodings\n",
    "        self.labels = labels\n",
    "\n",
    "    def __getitem__(self, idx):\n",
    "        item = {key: torch.tensor(val[idx]) for key, val in self.encodings.items()}\n",
    "        item['labels'] = torch.tensor(self.labels[idx])\n",
    "        return item\n",
    "\n",
    "    def __len__(self):\n",
    "        return len(self.labels)"
   ]
  },
  {
   "cell_type": "code",
   "execution_count": 20,
   "id": "02aca516-072b-436b-adf8-b46410e227c9",
   "metadata": {},
   "outputs": [],
   "source": [
    "# STEP 4: Define Training and Evaluation Logic\n",
    "def train_eval_model(model_name, tokenizer, train_idx, val_idx, df):\n",
    "    train_texts = df.iloc[train_idx]['query'].tolist()\n",
    "    train_labels = df.iloc[train_idx]['label'].tolist()\n",
    "    val_texts = df.iloc[val_idx]['query'].tolist()\n",
    "    val_labels = df.iloc[val_idx]['label'].tolist()\n",
    "\n",
    "    train_encodings = tokenizer(train_texts, truncation=True, padding=True)\n",
    "    val_encodings = tokenizer(val_texts, truncation=True, padding=True)\n",
    "\n",
    "    train_dataset = QueryDataset(train_encodings, train_labels)\n",
    "    val_dataset = QueryDataset(val_encodings, val_labels)\n",
    "\n",
    "    model = AutoModelForSequenceClassification.from_pretrained(model_name, num_labels=2)\n",
    "    model.to(device)\n",
    "\n",
    "    train_loader = torch.utils.data.DataLoader(train_dataset, batch_size=4, shuffle=True)\n",
    "    val_loader = torch.utils.data.DataLoader(val_dataset, batch_size=4)\n",
    "    \n",
    "    optimizer = torch.optim.AdamW(model.parameters(), lr=2e-5)\n",
    "    loss_fn = torch.nn.CrossEntropyLoss(weight=torch.tensor([1.0, 1.0]).to(device))\n",
    "\n",
    "    # Training loop\n",
    "    model.train()\n",
    "    for epoch in range(3):\n",
    "        total_loss = 0\n",
    "        for batch in train_loader:\n",
    "            input_ids = batch['input_ids'].to(device)\n",
    "            attention_mask = batch['attention_mask'].to(device)\n",
    "            labels = batch['labels'].to(device)\n",
    "\n",
    "            outputs = model(input_ids, attention_mask=attention_mask)\n",
    "            loss = loss_fn(outputs.logits, labels)\n",
    "            loss.backward()\n",
    "            optimizer.step()\n",
    "            optimizer.zero_grad()\n",
    "            total_loss += loss.item()\n",
    "\n",
    "        print(f\"Epoch {epoch+1}: Training Loss = {total_loss/len(train_loader):.4f}\")\n",
    "\n",
    "    # Evaluation\n",
    "    model.eval()\n",
    "    y_true, y_pred = [], []\n",
    "    with torch.no_grad():\n",
    "        for batch in val_loader:\n",
    "            input_ids = batch['input_ids'].to(device)\n",
    "            attention_mask = batch['attention_mask'].to(device)\n",
    "            labels = batch['labels'].to(device)\n",
    "\n",
    "            outputs = model(input_ids, attention_mask=attention_mask)\n",
    "            preds = torch.argmax(outputs.logits, dim=1)\n",
    "            y_true.extend(labels.cpu().numpy())\n",
    "            y_pred.extend(preds.cpu().numpy())\n",
    "\n",
    "    print(\"Accuracy:\", accuracy_score(y_true, y_pred))\n",
    "    print(\"F1 Score:\", f1_score(y_true, y_pred, average='weighted'))\n",
    "    print(\"Classification Report:\\n\", classification_report(y_true, y_pred))\n",
    "\n",
    "    cm = confusion_matrix(y_true, y_pred)\n",
    "    sns.heatmap(cm, annot=True, cmap=\"Blues\", fmt='d', xticklabels=[\"Gmail\", \"Calendar\"], yticklabels=[\"Gmail\", \"Calendar\"])\n",
    "    plt.title(\"Confusion Matrix\")\n",
    "    plt.xlabel(\"Predicted\")\n",
    "    plt.ylabel(\"True\")\n",
    "    plt.show()\n",
    "\n",
    "    return model"
   ]
  },
  {
   "cell_type": "code",
   "execution_count": 21,
   "id": "579e0802-d097-43a2-8d0d-4f1ad50ffbb3",
   "metadata": {},
   "outputs": [
    {
     "name": "stderr",
     "output_type": "stream",
     "text": [
      "C:\\Users\\antil\\AppData\\Local\\Packages\\PythonSoftwareFoundation.Python.3.11_qbz5n2kfra8p0\\LocalCache\\local-packages\\Python311\\site-packages\\huggingface_hub\\file_download.py:943: FutureWarning: `resume_download` is deprecated and will be removed in version 1.0.0. Downloads always resume when possible. If you want to force a new download, use `force_download=True`.\n",
      "  warnings.warn(\n",
      "HTTP Error 429 thrown while requesting HEAD https://huggingface.co/roberta-base/resolve/main/tokenizer_config.json\n",
      "Retrying in 1s [Retry 1/5].\n",
      "HTTP Error 429 thrown while requesting HEAD https://huggingface.co/roberta-base/resolve/main/tokenizer_config.json\n",
      "Retrying in 2s [Retry 2/5].\n",
      "HTTP Error 429 thrown while requesting HEAD https://huggingface.co/roberta-base/resolve/main/tokenizer_config.json\n",
      "Retrying in 4s [Retry 3/5].\n",
      "HTTP Error 429 thrown while requesting HEAD https://huggingface.co/roberta-base/resolve/main/tokenizer_config.json\n",
      "Retrying in 8s [Retry 4/5].\n",
      "HTTP Error 429 thrown while requesting HEAD https://huggingface.co/roberta-base/resolve/main/tokenizer_config.json\n",
      "Retrying in 8s [Retry 5/5].\n",
      "HTTP Error 429 thrown while requesting HEAD https://huggingface.co/roberta-base/resolve/main/tokenizer_config.json\n",
      "C:\\Users\\antil\\AppData\\Local\\Packages\\PythonSoftwareFoundation.Python.3.11_qbz5n2kfra8p0\\LocalCache\\local-packages\\Python311\\site-packages\\huggingface_hub\\file_download.py:943: FutureWarning: `resume_download` is deprecated and will be removed in version 1.0.0. Downloads always resume when possible. If you want to force a new download, use `force_download=True`.\n",
      "  warnings.warn(\n",
      "HTTP Error 429 thrown while requesting HEAD https://huggingface.co/roberta-base/resolve/main/config.json\n",
      "Retrying in 1s [Retry 1/5].\n"
     ]
    },
    {
     "name": "stdout",
     "output_type": "stream",
     "text": [
      "\n",
      "=== Fold 1 ===\n"
     ]
    },
    {
     "name": "stderr",
     "output_type": "stream",
     "text": [
      "HTTP Error 429 thrown while requesting HEAD https://huggingface.co/roberta-base/resolve/main/config.json\n",
      "Retrying in 2s [Retry 2/5].\n",
      "HTTP Error 429 thrown while requesting HEAD https://huggingface.co/roberta-base/resolve/main/config.json\n",
      "Retrying in 4s [Retry 3/5].\n",
      "HTTP Error 429 thrown while requesting HEAD https://huggingface.co/roberta-base/resolve/main/config.json\n",
      "Retrying in 8s [Retry 4/5].\n",
      "HTTP Error 429 thrown while requesting HEAD https://huggingface.co/roberta-base/resolve/main/config.json\n",
      "Retrying in 8s [Retry 5/5].\n",
      "HTTP Error 429 thrown while requesting HEAD https://huggingface.co/roberta-base/resolve/main/config.json\n",
      "Some weights of RobertaForSequenceClassification were not initialized from the model checkpoint at roberta-base and are newly initialized: ['classifier.dense.bias', 'classifier.dense.weight', 'classifier.out_proj.bias', 'classifier.out_proj.weight']\n",
      "You should probably TRAIN this model on a down-stream task to be able to use it for predictions and inference.\n"
     ]
    },
    {
     "name": "stdout",
     "output_type": "stream",
     "text": [
      "Epoch 1: Training Loss = 0.7029\n",
      "Epoch 2: Training Loss = 0.6740\n",
      "Epoch 3: Training Loss = 0.5037\n",
      "Accuracy: 1.0\n",
      "F1 Score: 1.0\n",
      "Classification Report:\n",
      "               precision    recall  f1-score   support\n",
      "\n",
      "           0       1.00      1.00      1.00        10\n",
      "           1       1.00      1.00      1.00        10\n",
      "\n",
      "    accuracy                           1.00        20\n",
      "   macro avg       1.00      1.00      1.00        20\n",
      "weighted avg       1.00      1.00      1.00        20\n",
      "\n"
     ]
    },
    {
     "data": {
      "image/png": "[encoded data removed]",
      "text/plain": [
       "<Figure size 640x480 with 2 Axes>"
      ]
     },
     "metadata": {},
     "output_type": "display_data"
    },
    {
     "name": "stderr",
     "output_type": "stream",
     "text": [
      "C:\\Users\\antil\\AppData\\Local\\Packages\\PythonSoftwareFoundation.Python.3.11_qbz5n2kfra8p0\\LocalCache\\local-packages\\Python311\\site-packages\\huggingface_hub\\file_download.py:943: FutureWarning: `resume_download` is deprecated and will be removed in version 1.0.0. Downloads always resume when possible. If you want to force a new download, use `force_download=True`.\n",
      "  warnings.warn(\n",
      "HTTP Error 429 thrown while requesting HEAD https://huggingface.co/roberta-base/resolve/main/config.json\n",
      "Retrying in 1s [Retry 1/5].\n"
     ]
    },
    {
     "name": "stdout",
     "output_type": "stream",
     "text": [
      "\n",
      "=== Fold 2 ===\n"
     ]
    },
    {
     "name": "stderr",
     "output_type": "stream",
     "text": [
      "HTTP Error 429 thrown while requesting HEAD https://huggingface.co/roberta-base/resolve/main/config.json\n",
      "Retrying in 2s [Retry 2/5].\n",
      "HTTP Error 429 thrown while requesting HEAD https://huggingface.co/roberta-base/resolve/main/config.json\n",
      "Retrying in 4s [Retry 3/5].\n",
      "HTTP Error 429 thrown while requesting HEAD https://huggingface.co/roberta-base/resolve/main/config.json\n",
      "Retrying in 8s [Retry 4/5].\n",
      "HTTP Error 429 thrown while requesting HEAD https://huggingface.co/roberta-base/resolve/main/config.json\n",
      "Retrying in 8s [Retry 5/5].\n",
      "HTTP Error 429 thrown while requesting HEAD https://huggingface.co/roberta-base/resolve/main/config.json\n",
      "Some weights of RobertaForSequenceClassification were not initialized from the model checkpoint at roberta-base and are newly initialized: ['classifier.dense.bias', 'classifier.dense.weight', 'classifier.out_proj.bias', 'classifier.out_proj.weight']\n",
      "You should probably TRAIN this model on a down-stream task to be able to use it for predictions and inference.\n"
     ]
    },
    {
     "name": "stdout",
     "output_type": "stream",
     "text": [
      "Epoch 1: Training Loss = 0.6852\n",
      "Epoch 2: Training Loss = 0.6449\n",
      "Epoch 3: Training Loss = 0.4141\n",
      "Accuracy: 0.95\n",
      "F1 Score: 0.949874686716792\n",
      "Classification Report:\n",
      "               precision    recall  f1-score   support\n",
      "\n",
      "           0       1.00      0.90      0.95        10\n",
      "           1       0.91      1.00      0.95        10\n",
      "\n",
      "    accuracy                           0.95        20\n",
      "   macro avg       0.95      0.95      0.95        20\n",
      "weighted avg       0.95      0.95      0.95        20\n",
      "\n"
     ]
    },
    {
     "data": {
      "image/png": "[encoded data removed]",
      "text/plain": [
       "<Figure size 640x480 with 2 Axes>"
      ]
     },
     "metadata": {},
     "output_type": "display_data"
    },
    {
     "name": "stdout",
     "output_type": "stream",
     "text": [
      "\n",
      "=== Fold 3 ===\n"
     ]
    },
    {
     "name": "stderr",
     "output_type": "stream",
     "text": [
      "C:\\Users\\antil\\AppData\\Local\\Packages\\PythonSoftwareFoundation.Python.3.11_qbz5n2kfra8p0\\LocalCache\\local-packages\\Python311\\site-packages\\huggingface_hub\\file_download.py:943: FutureWarning: `resume_download` is deprecated and will be removed in version 1.0.0. Downloads always resume when possible. If you want to force a new download, use `force_download=True`.\n",
      "  warnings.warn(\n",
      "HTTP Error 429 thrown while requesting HEAD https://huggingface.co/roberta-base/resolve/main/config.json\n",
      "Retrying in 1s [Retry 1/5].\n",
      "HTTP Error 429 thrown while requesting HEAD https://huggingface.co/roberta-base/resolve/main/config.json\n",
      "Retrying in 2s [Retry 2/5].\n",
      "HTTP Error 429 thrown while requesting HEAD https://huggingface.co/roberta-base/resolve/main/config.json\n",
      "Retrying in 4s [Retry 3/5].\n",
      "HTTP Error 429 thrown while requesting HEAD https://huggingface.co/roberta-base/resolve/main/config.json\n",
      "Retrying in 8s [Retry 4/5].\n",
      "HTTP Error 429 thrown while requesting HEAD https://huggingface.co/roberta-base/resolve/main/config.json\n",
      "Retrying in 8s [Retry 5/5].\n",
      "HTTP Error 429 thrown while requesting HEAD https://huggingface.co/roberta-base/resolve/main/config.json\n",
      "Some weights of RobertaForSequenceClassification were not initialized from the model checkpoint at roberta-base and are newly initialized: ['classifier.dense.bias', 'classifier.dense.weight', 'classifier.out_proj.bias', 'classifier.out_proj.weight']\n",
      "You should probably TRAIN this model on a down-stream task to be able to use it for predictions and inference.\n"
     ]
    },
    {
     "name": "stdout",
     "output_type": "stream",
     "text": [
      "Epoch 1: Training Loss = 0.6846\n",
      "Epoch 2: Training Loss = 0.6678\n",
      "Epoch 3: Training Loss = 0.3698\n",
      "Accuracy: 0.95\n",
      "F1 Score: 0.949874686716792\n",
      "Classification Report:\n",
      "               precision    recall  f1-score   support\n",
      "\n",
      "           0       0.91      1.00      0.95        10\n",
      "           1       1.00      0.90      0.95        10\n",
      "\n",
      "    accuracy                           0.95        20\n",
      "   macro avg       0.95      0.95      0.95        20\n",
      "weighted avg       0.95      0.95      0.95        20\n",
      "\n"
     ]
    },
    {
     "data": {
      "image/png": "[encoded data removed]",
      "text/plain": [
       "<Figure size 640x480 with 2 Axes>"
      ]
     },
     "metadata": {},
     "output_type": "display_data"
    }
   ],
   "source": [
    "# STEP 5: Stratified K-Fold Validation\n",
    "from transformers import AutoTokenizer, AutoModelForSequenceClassification\n",
    "import torch\n",
    "from sklearn.model_selection import StratifiedKFold\n",
    "model_name = \"roberta-base\"\n",
    "tokenizer = AutoTokenizer.from_pretrained(model_name)\n",
    "device = torch.device(\"cuda\" if torch.cuda.is_available() else \"cpu\")\n",
    "\n",
    "skf = StratifiedKFold(n_splits=3, shuffle=True, random_state=42)\n",
    "\n",
    "final_model = None\n",
    "for fold, (train_idx, val_idx) in enumerate(skf.split(df['query'], df['label'])):\n",
    "    print(f\"\\n=== Fold {fold+1} ===\")\n",
    "    final_model = train_eval_model(model_name, tokenizer, train_idx, val_idx, df)"
   ]
  },
  {
   "cell_type": "code",
   "execution_count": 22,
   "id": "1d6ec0f8-dbea-4a83-a14f-2bb6acfccfa7",
   "metadata": {},
   "outputs": [
    {
     "name": "stdout",
     "output_type": "stream",
     "text": [
      "\n",
      "✅ Model and tokenizer saved successfully for Streamlit deployment.\n"
     ]
    }
   ],
   "source": [
    "# Save model and tokenizer correctly\n",
    "final_model.save_pretrained(\"saved_model\")    \n",
    "tokenizer.save_pretrained(\"saved_tokenizer\")\n",
    "print(\"\\n✅ Model and tokenizer saved successfully for Streamlit deployment.\")"
   ]
  },
  {
   "cell_type": "code",
   "execution_count": null,
   "id": "6bab221c-4255-455f-a904-6f2eb18b13fd",
   "metadata": {},
   "outputs": [],
   "source": []
  }
 ],
 "metadata": {
  "kernelspec": {
   "display_name": "Python 3 (ipykernel)",
   "language": "python",
   "name": "python3"
  },
  "language_info": {
   "codemirror_mode": {
    "name": "ipython",
    "version": 3
   },
   "file_extension": ".py",
   "mimetype": "text/x-python",
   "name": "python",
   "nbconvert_exporter": "python",
   "pygments_lexer": "ipython3",
   "version": "3.11.9"
  }
 },
 "nbformat": 4,
 "nbformat_minor": 5
}
